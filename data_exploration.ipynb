{
 "cells": [
  {
   "cell_type": "markdown",
   "metadata": {
    "colab_type": "text",
    "id": "Gbgp0NXdc137"
   },
   "source": [
    "# Project 2: Initial exploration and data visualization\n",
    "*University of Ljubljana, Faculty for computer and information science* <br />\n",
    "*Course: Introduction to data science, 2021-2022*"
   ]
  },
  {
   "cell_type": "markdown",
   "metadata": {},
   "source": [
    "Vito Založnik"
   ]
  },
  {
   "cell_type": "markdown",
   "metadata": {
    "colab_type": "text",
    "id": "vmDFHSpSc14M"
   },
   "source": [
    "## Environment setup"
   ]
  },
  {
   "cell_type": "markdown",
   "metadata": {
    "colab_type": "text",
    "id": "U6cCtBRGc14R"
   },
   "source": [
    "Write instructions how to setup the environment to run this notebook, which libraries are installed, etc. Also provide installation sources.\n",
    "\n",
    "- conda create --name project_2\n",
    "- conda activate project_2\n",
    "- conda install python=3.7\n",
    "- conda install jupyter notebook\n",
    "- ipython kernel install --name project_2 --user\n",
    "- conda install pandas\n",
    "- conda install numpy\n",
    "- conda install matplotlib\n",
    "- conda install scipy\n",
    "- conda install seaborn\n",
    "- conda install -c conda-forge plotnine\n"
   ]
  },
  {
   "cell_type": "code",
   "execution_count": 1,
   "metadata": {
    "colab": {},
    "colab_type": "code",
    "id": "X3ooqpJOc14V"
   },
   "outputs": [],
   "source": [
    "# Load all the libraries needed for running the code chunks below\n",
    "import pandas as pd\n",
    "import numpy as np\n",
    "import matplotlib.pyplot as plt\n",
    "import scipy\n",
    "import scipy.stats as stats\n",
    "import matplotlib.dates as mdates\n",
    "import seaborn as sns\n",
    "from matplotlib.pyplot import figure\n",
    "import os\n",
    "import sys\n",
    "import time\n",
    "from plotnine import ggplot, geom_point, aes, stat_smooth, facet_wrap\n",
    "\n"
   ]
  },
  {
   "cell_type": "code",
   "execution_count": 10,
   "metadata": {},
   "outputs": [],
   "source": [
    "def add_header():\n",
    "    \"\"\"ads header to every event csv file\"\"\"\n",
    "    arr = os.listdir(\"events\")\n",
    "    col = [\"Date\", \"Event\", \"ID\", \"Event_count\"]\n",
    "    for file_name in arr:\n",
    "        if file_name == \"AllEvents.csv\":\n",
    "            pass\n",
    "        elif file_name == 'NewDatasourcesAdded.csv':\n",
    "            df = pd.read_csv(\"events/NewDatasourcesAdded.csv\", skiprows=1)\n",
    "            df.columns = col\n",
    "            df[\"Date\"] = pd.to_datetime(df[\"Date\"])\n",
    "            df.to_csv(\"events/\" + file_name, index=False)\n",
    "        else:\n",
    "            df = pd.read_csv(\"events/\" + file_name)\n",
    "            df.columns = col\n",
    "            df[\"Date\"] = pd.to_datetime(df[\"Date\"])\n",
    "            df.to_csv(\"events/\" + file_name, index=False)\n",
    "    print(\"Done!\")\n"
   ]
  },
  {
   "cell_type": "markdown",
   "metadata": {},
   "source": [
    "Call function below everytime you get new data. "
   ]
  },
  {
   "cell_type": "code",
   "execution_count": 11,
   "metadata": {},
   "outputs": [],
   "source": [
    "\n",
    "add_header() #call function that adds header and clean some typos in data."
   ]
  },
  {
   "cell_type": "code",
   "execution_count": null,
   "metadata": {},
   "outputs": [],
   "source": []
  },
  {
   "cell_type": "code",
   "execution_count": null,
   "metadata": {},
   "outputs": [],
   "source": []
  },
  {
   "cell_type": "code",
   "execution_count": 12,
   "metadata": {},
   "outputs": [
    {
     "data": {
      "text/html": [
       "<div>\n",
       "<style scoped>\n",
       "    .dataframe tbody tr th:only-of-type {\n",
       "        vertical-align: middle;\n",
       "    }\n",
       "\n",
       "    .dataframe tbody tr th {\n",
       "        vertical-align: top;\n",
       "    }\n",
       "\n",
       "    .dataframe thead th {\n",
       "        text-align: right;\n",
       "    }\n",
       "</style>\n",
       "<table border=\"1\" class=\"dataframe\">\n",
       "  <thead>\n",
       "    <tr style=\"text-align: right;\">\n",
       "      <th></th>\n",
       "      <th>$distinct_id</th>\n",
       "      <th>$properties.space_id</th>\n",
       "      <th>$properties.is_agency</th>\n",
       "      <th>$properties.had_trial</th>\n",
       "      <th>$properties.is_activated</th>\n",
       "      <th>$properties.has_mobile_company</th>\n",
       "      <th>$properties.sessions_company</th>\n",
       "      <th>$properties.databoards_company</th>\n",
       "      <th>$properties.cloud_sources_company</th>\n",
       "      <th>$properties.metrics_company</th>\n",
       "      <th>$properties.users_in_space</th>\n",
       "      <th>$properties.scheduled_snapshots_company</th>\n",
       "      <th>$properties.custom_queries_company</th>\n",
       "      <th>$properties.scripts_company</th>\n",
       "    </tr>\n",
       "  </thead>\n",
       "  <tbody>\n",
       "    <tr>\n",
       "      <th>$distinct_id</th>\n",
       "      <td>1.000000</td>\n",
       "      <td>1.000000</td>\n",
       "      <td>-0.015631</td>\n",
       "      <td>-0.026635</td>\n",
       "      <td>-0.047689</td>\n",
       "      <td>-0.081925</td>\n",
       "      <td>-0.065452</td>\n",
       "      <td>-0.011746</td>\n",
       "      <td>-0.034459</td>\n",
       "      <td>-0.084718</td>\n",
       "      <td>-0.030067</td>\n",
       "      <td>-0.008903</td>\n",
       "      <td>-0.017628</td>\n",
       "      <td>-0.018644</td>\n",
       "    </tr>\n",
       "    <tr>\n",
       "      <th>$properties.space_id</th>\n",
       "      <td>1.000000</td>\n",
       "      <td>1.000000</td>\n",
       "      <td>-0.015631</td>\n",
       "      <td>-0.026635</td>\n",
       "      <td>-0.047689</td>\n",
       "      <td>-0.081925</td>\n",
       "      <td>-0.065452</td>\n",
       "      <td>-0.011746</td>\n",
       "      <td>-0.034459</td>\n",
       "      <td>-0.084718</td>\n",
       "      <td>-0.030067</td>\n",
       "      <td>-0.008903</td>\n",
       "      <td>-0.017628</td>\n",
       "      <td>-0.018644</td>\n",
       "    </tr>\n",
       "    <tr>\n",
       "      <th>$properties.is_agency</th>\n",
       "      <td>-0.015631</td>\n",
       "      <td>-0.015631</td>\n",
       "      <td>1.000000</td>\n",
       "      <td>0.030149</td>\n",
       "      <td>0.136357</td>\n",
       "      <td>0.031270</td>\n",
       "      <td>0.048586</td>\n",
       "      <td>0.114746</td>\n",
       "      <td>0.149513</td>\n",
       "      <td>0.088963</td>\n",
       "      <td>0.070843</td>\n",
       "      <td>0.018808</td>\n",
       "      <td>0.016956</td>\n",
       "      <td>0.027366</td>\n",
       "    </tr>\n",
       "    <tr>\n",
       "      <th>$properties.had_trial</th>\n",
       "      <td>-0.026635</td>\n",
       "      <td>-0.026635</td>\n",
       "      <td>0.030149</td>\n",
       "      <td>1.000000</td>\n",
       "      <td>0.319975</td>\n",
       "      <td>0.165967</td>\n",
       "      <td>0.228773</td>\n",
       "      <td>0.297752</td>\n",
       "      <td>0.315616</td>\n",
       "      <td>0.146615</td>\n",
       "      <td>0.242537</td>\n",
       "      <td>0.102841</td>\n",
       "      <td>0.146195</td>\n",
       "      <td>0.128831</td>\n",
       "    </tr>\n",
       "    <tr>\n",
       "      <th>$properties.is_activated</th>\n",
       "      <td>-0.047689</td>\n",
       "      <td>-0.047689</td>\n",
       "      <td>0.136357</td>\n",
       "      <td>0.319975</td>\n",
       "      <td>1.000000</td>\n",
       "      <td>0.159587</td>\n",
       "      <td>0.153867</td>\n",
       "      <td>0.328539</td>\n",
       "      <td>0.412992</td>\n",
       "      <td>0.392323</td>\n",
       "      <td>0.165366</td>\n",
       "      <td>0.110130</td>\n",
       "      <td>0.067053</td>\n",
       "      <td>0.058881</td>\n",
       "    </tr>\n",
       "    <tr>\n",
       "      <th>$properties.has_mobile_company</th>\n",
       "      <td>-0.081925</td>\n",
       "      <td>-0.081925</td>\n",
       "      <td>0.031270</td>\n",
       "      <td>0.165967</td>\n",
       "      <td>0.159587</td>\n",
       "      <td>1.000000</td>\n",
       "      <td>0.296427</td>\n",
       "      <td>0.226276</td>\n",
       "      <td>0.224092</td>\n",
       "      <td>0.173724</td>\n",
       "      <td>0.247263</td>\n",
       "      <td>0.124229</td>\n",
       "      <td>0.115244</td>\n",
       "      <td>0.103573</td>\n",
       "    </tr>\n",
       "    <tr>\n",
       "      <th>$properties.sessions_company</th>\n",
       "      <td>-0.065452</td>\n",
       "      <td>-0.065452</td>\n",
       "      <td>0.048586</td>\n",
       "      <td>0.228773</td>\n",
       "      <td>0.153867</td>\n",
       "      <td>0.296427</td>\n",
       "      <td>1.000000</td>\n",
       "      <td>0.515171</td>\n",
       "      <td>0.441458</td>\n",
       "      <td>0.317287</td>\n",
       "      <td>0.583222</td>\n",
       "      <td>0.244615</td>\n",
       "      <td>0.462233</td>\n",
       "      <td>0.439021</td>\n",
       "    </tr>\n",
       "    <tr>\n",
       "      <th>$properties.databoards_company</th>\n",
       "      <td>-0.011746</td>\n",
       "      <td>-0.011746</td>\n",
       "      <td>0.114746</td>\n",
       "      <td>0.297752</td>\n",
       "      <td>0.328539</td>\n",
       "      <td>0.226276</td>\n",
       "      <td>0.515171</td>\n",
       "      <td>1.000000</td>\n",
       "      <td>0.775133</td>\n",
       "      <td>0.359801</td>\n",
       "      <td>0.550160</td>\n",
       "      <td>0.297482</td>\n",
       "      <td>0.482279</td>\n",
       "      <td>0.424702</td>\n",
       "    </tr>\n",
       "    <tr>\n",
       "      <th>$properties.cloud_sources_company</th>\n",
       "      <td>-0.034459</td>\n",
       "      <td>-0.034459</td>\n",
       "      <td>0.149513</td>\n",
       "      <td>0.315616</td>\n",
       "      <td>0.412992</td>\n",
       "      <td>0.224092</td>\n",
       "      <td>0.441458</td>\n",
       "      <td>0.775133</td>\n",
       "      <td>1.000000</td>\n",
       "      <td>0.361670</td>\n",
       "      <td>0.472383</td>\n",
       "      <td>0.248448</td>\n",
       "      <td>0.310019</td>\n",
       "      <td>0.302025</td>\n",
       "    </tr>\n",
       "    <tr>\n",
       "      <th>$properties.metrics_company</th>\n",
       "      <td>-0.084718</td>\n",
       "      <td>-0.084718</td>\n",
       "      <td>0.088963</td>\n",
       "      <td>0.146615</td>\n",
       "      <td>0.392323</td>\n",
       "      <td>0.173724</td>\n",
       "      <td>0.317287</td>\n",
       "      <td>0.359801</td>\n",
       "      <td>0.361670</td>\n",
       "      <td>1.000000</td>\n",
       "      <td>0.274651</td>\n",
       "      <td>0.164252</td>\n",
       "      <td>0.315099</td>\n",
       "      <td>0.255668</td>\n",
       "    </tr>\n",
       "    <tr>\n",
       "      <th>$properties.users_in_space</th>\n",
       "      <td>-0.030067</td>\n",
       "      <td>-0.030067</td>\n",
       "      <td>0.070843</td>\n",
       "      <td>0.242537</td>\n",
       "      <td>0.165366</td>\n",
       "      <td>0.247263</td>\n",
       "      <td>0.583222</td>\n",
       "      <td>0.550160</td>\n",
       "      <td>0.472383</td>\n",
       "      <td>0.274651</td>\n",
       "      <td>1.000000</td>\n",
       "      <td>0.228522</td>\n",
       "      <td>0.351632</td>\n",
       "      <td>0.299037</td>\n",
       "    </tr>\n",
       "    <tr>\n",
       "      <th>$properties.scheduled_snapshots_company</th>\n",
       "      <td>-0.008903</td>\n",
       "      <td>-0.008903</td>\n",
       "      <td>0.018808</td>\n",
       "      <td>0.102841</td>\n",
       "      <td>0.110130</td>\n",
       "      <td>0.124229</td>\n",
       "      <td>0.244615</td>\n",
       "      <td>0.297482</td>\n",
       "      <td>0.248448</td>\n",
       "      <td>0.164252</td>\n",
       "      <td>0.228522</td>\n",
       "      <td>1.000000</td>\n",
       "      <td>0.204987</td>\n",
       "      <td>0.183957</td>\n",
       "    </tr>\n",
       "    <tr>\n",
       "      <th>$properties.custom_queries_company</th>\n",
       "      <td>-0.017628</td>\n",
       "      <td>-0.017628</td>\n",
       "      <td>0.016956</td>\n",
       "      <td>0.146195</td>\n",
       "      <td>0.067053</td>\n",
       "      <td>0.115244</td>\n",
       "      <td>0.462233</td>\n",
       "      <td>0.482279</td>\n",
       "      <td>0.310019</td>\n",
       "      <td>0.315099</td>\n",
       "      <td>0.351632</td>\n",
       "      <td>0.204987</td>\n",
       "      <td>1.000000</td>\n",
       "      <td>0.567306</td>\n",
       "    </tr>\n",
       "    <tr>\n",
       "      <th>$properties.scripts_company</th>\n",
       "      <td>-0.018644</td>\n",
       "      <td>-0.018644</td>\n",
       "      <td>0.027366</td>\n",
       "      <td>0.128831</td>\n",
       "      <td>0.058881</td>\n",
       "      <td>0.103573</td>\n",
       "      <td>0.439021</td>\n",
       "      <td>0.424702</td>\n",
       "      <td>0.302025</td>\n",
       "      <td>0.255668</td>\n",
       "      <td>0.299037</td>\n",
       "      <td>0.183957</td>\n",
       "      <td>0.567306</td>\n",
       "      <td>1.000000</td>\n",
       "    </tr>\n",
       "  </tbody>\n",
       "</table>\n",
       "</div>"
      ],
      "text/plain": [
       "                                         $distinct_id  $properties.space_id  \\\n",
       "$distinct_id                                 1.000000              1.000000   \n",
       "$properties.space_id                         1.000000              1.000000   \n",
       "$properties.is_agency                       -0.015631             -0.015631   \n",
       "$properties.had_trial                       -0.026635             -0.026635   \n",
       "$properties.is_activated                    -0.047689             -0.047689   \n",
       "$properties.has_mobile_company              -0.081925             -0.081925   \n",
       "$properties.sessions_company                -0.065452             -0.065452   \n",
       "$properties.databoards_company              -0.011746             -0.011746   \n",
       "$properties.cloud_sources_company           -0.034459             -0.034459   \n",
       "$properties.metrics_company                 -0.084718             -0.084718   \n",
       "$properties.users_in_space                  -0.030067             -0.030067   \n",
       "$properties.scheduled_snapshots_company     -0.008903             -0.008903   \n",
       "$properties.custom_queries_company          -0.017628             -0.017628   \n",
       "$properties.scripts_company                 -0.018644             -0.018644   \n",
       "\n",
       "                                         $properties.is_agency  \\\n",
       "$distinct_id                                         -0.015631   \n",
       "$properties.space_id                                 -0.015631   \n",
       "$properties.is_agency                                 1.000000   \n",
       "$properties.had_trial                                 0.030149   \n",
       "$properties.is_activated                              0.136357   \n",
       "$properties.has_mobile_company                        0.031270   \n",
       "$properties.sessions_company                          0.048586   \n",
       "$properties.databoards_company                        0.114746   \n",
       "$properties.cloud_sources_company                     0.149513   \n",
       "$properties.metrics_company                           0.088963   \n",
       "$properties.users_in_space                            0.070843   \n",
       "$properties.scheduled_snapshots_company               0.018808   \n",
       "$properties.custom_queries_company                    0.016956   \n",
       "$properties.scripts_company                           0.027366   \n",
       "\n",
       "                                         $properties.had_trial  \\\n",
       "$distinct_id                                         -0.026635   \n",
       "$properties.space_id                                 -0.026635   \n",
       "$properties.is_agency                                 0.030149   \n",
       "$properties.had_trial                                 1.000000   \n",
       "$properties.is_activated                              0.319975   \n",
       "$properties.has_mobile_company                        0.165967   \n",
       "$properties.sessions_company                          0.228773   \n",
       "$properties.databoards_company                        0.297752   \n",
       "$properties.cloud_sources_company                     0.315616   \n",
       "$properties.metrics_company                           0.146615   \n",
       "$properties.users_in_space                            0.242537   \n",
       "$properties.scheduled_snapshots_company               0.102841   \n",
       "$properties.custom_queries_company                    0.146195   \n",
       "$properties.scripts_company                           0.128831   \n",
       "\n",
       "                                         $properties.is_activated  \\\n",
       "$distinct_id                                            -0.047689   \n",
       "$properties.space_id                                    -0.047689   \n",
       "$properties.is_agency                                    0.136357   \n",
       "$properties.had_trial                                    0.319975   \n",
       "$properties.is_activated                                 1.000000   \n",
       "$properties.has_mobile_company                           0.159587   \n",
       "$properties.sessions_company                             0.153867   \n",
       "$properties.databoards_company                           0.328539   \n",
       "$properties.cloud_sources_company                        0.412992   \n",
       "$properties.metrics_company                              0.392323   \n",
       "$properties.users_in_space                               0.165366   \n",
       "$properties.scheduled_snapshots_company                  0.110130   \n",
       "$properties.custom_queries_company                       0.067053   \n",
       "$properties.scripts_company                              0.058881   \n",
       "\n",
       "                                         $properties.has_mobile_company  \\\n",
       "$distinct_id                                                  -0.081925   \n",
       "$properties.space_id                                          -0.081925   \n",
       "$properties.is_agency                                          0.031270   \n",
       "$properties.had_trial                                          0.165967   \n",
       "$properties.is_activated                                       0.159587   \n",
       "$properties.has_mobile_company                                 1.000000   \n",
       "$properties.sessions_company                                   0.296427   \n",
       "$properties.databoards_company                                 0.226276   \n",
       "$properties.cloud_sources_company                              0.224092   \n",
       "$properties.metrics_company                                    0.173724   \n",
       "$properties.users_in_space                                     0.247263   \n",
       "$properties.scheduled_snapshots_company                        0.124229   \n",
       "$properties.custom_queries_company                             0.115244   \n",
       "$properties.scripts_company                                    0.103573   \n",
       "\n",
       "                                         $properties.sessions_company  \\\n",
       "$distinct_id                                                -0.065452   \n",
       "$properties.space_id                                        -0.065452   \n",
       "$properties.is_agency                                        0.048586   \n",
       "$properties.had_trial                                        0.228773   \n",
       "$properties.is_activated                                     0.153867   \n",
       "$properties.has_mobile_company                               0.296427   \n",
       "$properties.sessions_company                                 1.000000   \n",
       "$properties.databoards_company                               0.515171   \n",
       "$properties.cloud_sources_company                            0.441458   \n",
       "$properties.metrics_company                                  0.317287   \n",
       "$properties.users_in_space                                   0.583222   \n",
       "$properties.scheduled_snapshots_company                      0.244615   \n",
       "$properties.custom_queries_company                           0.462233   \n",
       "$properties.scripts_company                                  0.439021   \n",
       "\n",
       "                                         $properties.databoards_company  \\\n",
       "$distinct_id                                                  -0.011746   \n",
       "$properties.space_id                                          -0.011746   \n",
       "$properties.is_agency                                          0.114746   \n",
       "$properties.had_trial                                          0.297752   \n",
       "$properties.is_activated                                       0.328539   \n",
       "$properties.has_mobile_company                                 0.226276   \n",
       "$properties.sessions_company                                   0.515171   \n",
       "$properties.databoards_company                                 1.000000   \n",
       "$properties.cloud_sources_company                              0.775133   \n",
       "$properties.metrics_company                                    0.359801   \n",
       "$properties.users_in_space                                     0.550160   \n",
       "$properties.scheduled_snapshots_company                        0.297482   \n",
       "$properties.custom_queries_company                             0.482279   \n",
       "$properties.scripts_company                                    0.424702   \n",
       "\n",
       "                                         $properties.cloud_sources_company  \\\n",
       "$distinct_id                                                     -0.034459   \n",
       "$properties.space_id                                             -0.034459   \n",
       "$properties.is_agency                                             0.149513   \n",
       "$properties.had_trial                                             0.315616   \n",
       "$properties.is_activated                                          0.412992   \n",
       "$properties.has_mobile_company                                    0.224092   \n",
       "$properties.sessions_company                                      0.441458   \n",
       "$properties.databoards_company                                    0.775133   \n",
       "$properties.cloud_sources_company                                 1.000000   \n",
       "$properties.metrics_company                                       0.361670   \n",
       "$properties.users_in_space                                        0.472383   \n",
       "$properties.scheduled_snapshots_company                           0.248448   \n",
       "$properties.custom_queries_company                                0.310019   \n",
       "$properties.scripts_company                                       0.302025   \n",
       "\n",
       "                                         $properties.metrics_company  \\\n",
       "$distinct_id                                               -0.084718   \n",
       "$properties.space_id                                       -0.084718   \n",
       "$properties.is_agency                                       0.088963   \n",
       "$properties.had_trial                                       0.146615   \n",
       "$properties.is_activated                                    0.392323   \n",
       "$properties.has_mobile_company                              0.173724   \n",
       "$properties.sessions_company                                0.317287   \n",
       "$properties.databoards_company                              0.359801   \n",
       "$properties.cloud_sources_company                           0.361670   \n",
       "$properties.metrics_company                                 1.000000   \n",
       "$properties.users_in_space                                  0.274651   \n",
       "$properties.scheduled_snapshots_company                     0.164252   \n",
       "$properties.custom_queries_company                          0.315099   \n",
       "$properties.scripts_company                                 0.255668   \n",
       "\n",
       "                                         $properties.users_in_space  \\\n",
       "$distinct_id                                              -0.030067   \n",
       "$properties.space_id                                      -0.030067   \n",
       "$properties.is_agency                                      0.070843   \n",
       "$properties.had_trial                                      0.242537   \n",
       "$properties.is_activated                                   0.165366   \n",
       "$properties.has_mobile_company                             0.247263   \n",
       "$properties.sessions_company                               0.583222   \n",
       "$properties.databoards_company                             0.550160   \n",
       "$properties.cloud_sources_company                          0.472383   \n",
       "$properties.metrics_company                                0.274651   \n",
       "$properties.users_in_space                                 1.000000   \n",
       "$properties.scheduled_snapshots_company                    0.228522   \n",
       "$properties.custom_queries_company                         0.351632   \n",
       "$properties.scripts_company                                0.299037   \n",
       "\n",
       "                                         $properties.scheduled_snapshots_company  \\\n",
       "$distinct_id                                                           -0.008903   \n",
       "$properties.space_id                                                   -0.008903   \n",
       "$properties.is_agency                                                   0.018808   \n",
       "$properties.had_trial                                                   0.102841   \n",
       "$properties.is_activated                                                0.110130   \n",
       "$properties.has_mobile_company                                          0.124229   \n",
       "$properties.sessions_company                                            0.244615   \n",
       "$properties.databoards_company                                          0.297482   \n",
       "$properties.cloud_sources_company                                       0.248448   \n",
       "$properties.metrics_company                                             0.164252   \n",
       "$properties.users_in_space                                              0.228522   \n",
       "$properties.scheduled_snapshots_company                                 1.000000   \n",
       "$properties.custom_queries_company                                      0.204987   \n",
       "$properties.scripts_company                                             0.183957   \n",
       "\n",
       "                                         $properties.custom_queries_company  \\\n",
       "$distinct_id                                                      -0.017628   \n",
       "$properties.space_id                                              -0.017628   \n",
       "$properties.is_agency                                              0.016956   \n",
       "$properties.had_trial                                              0.146195   \n",
       "$properties.is_activated                                           0.067053   \n",
       "$properties.has_mobile_company                                     0.115244   \n",
       "$properties.sessions_company                                       0.462233   \n",
       "$properties.databoards_company                                     0.482279   \n",
       "$properties.cloud_sources_company                                  0.310019   \n",
       "$properties.metrics_company                                        0.315099   \n",
       "$properties.users_in_space                                         0.351632   \n",
       "$properties.scheduled_snapshots_company                            0.204987   \n",
       "$properties.custom_queries_company                                 1.000000   \n",
       "$properties.scripts_company                                        0.567306   \n",
       "\n",
       "                                         $properties.scripts_company  \n",
       "$distinct_id                                               -0.018644  \n",
       "$properties.space_id                                       -0.018644  \n",
       "$properties.is_agency                                       0.027366  \n",
       "$properties.had_trial                                       0.128831  \n",
       "$properties.is_activated                                    0.058881  \n",
       "$properties.has_mobile_company                              0.103573  \n",
       "$properties.sessions_company                                0.439021  \n",
       "$properties.databoards_company                              0.424702  \n",
       "$properties.cloud_sources_company                           0.302025  \n",
       "$properties.metrics_company                                 0.255668  \n",
       "$properties.users_in_space                                  0.299037  \n",
       "$properties.scheduled_snapshots_company                     0.183957  \n",
       "$properties.custom_queries_company                          0.567306  \n",
       "$properties.scripts_company                                 1.000000  "
      ]
     },
     "execution_count": 12,
     "metadata": {},
     "output_type": "execute_result"
    }
   ],
   "source": [
    "df = pd.read_csv(\"signups\\SignupsAttributes.csv\")\n",
    "df.corr()"
   ]
  },
  {
   "cell_type": "code",
   "execution_count": null,
   "metadata": {},
   "outputs": [],
   "source": []
  },
  {
   "cell_type": "code",
   "execution_count": null,
   "metadata": {},
   "outputs": [],
   "source": []
  },
  {
   "cell_type": "markdown",
   "metadata": {
    "colab_type": "text",
    "id": "aIXBDoF1c14Z"
   },
   "source": [
    "# Exploration and data visualization"
   ]
  },
  {
   "cell_type": "markdown",
   "metadata": {
    "colab": {},
    "colab_type": "code",
    "id": "mGR3NslWc14c"
   },
   "source": [
    "Your main task is to provide insights into the data to the reader through text, tables, and visualizations. Aim for a concise, efficient, and effective solution."
   ]
  },
  {
   "cell_type": "markdown",
   "metadata": {
    "colab_type": "text",
    "id": "_4y30zo_c14p"
   },
   "source": [
    "## Data statistics\n",
    "\n",
    "`TODO: add code to calculate statistics`"
   ]
  },
  {
   "cell_type": "markdown",
   "metadata": {},
   "source": [
    "### Statistics 1\n",
    "\n",
    "`TODO: add code to calculate statistics`"
   ]
  },
  {
   "cell_type": "code",
   "execution_count": 13,
   "metadata": {},
   "outputs": [],
   "source": [
    "# Statistics 1 code"
   ]
  },
  {
   "cell_type": "markdown",
   "metadata": {},
   "source": [
    "### Statistics 2\n",
    "\n",
    "`TODO: add code to calculate statistics`"
   ]
  },
  {
   "cell_type": "code",
   "execution_count": 14,
   "metadata": {},
   "outputs": [],
   "source": [
    "# Statistics 2 code"
   ]
  },
  {
   "cell_type": "markdown",
   "metadata": {},
   "source": [
    "### Statistics ...\n",
    "\n",
    "`TODO: add code to calculate statistics`"
   ]
  },
  {
   "cell_type": "code",
   "execution_count": 15,
   "metadata": {},
   "outputs": [],
   "source": [
    "# Statistics ... code"
   ]
  },
  {
   "cell_type": "markdown",
   "metadata": {
    "colab_type": "text",
    "id": "d1jQe5ELc14s"
   },
   "source": [
    "## Data visualizations\n",
    "\n",
    "`TODO: add code to generate interesting visualizations`"
   ]
  },
  {
   "cell_type": "markdown",
   "metadata": {
    "colab_type": "text",
    "id": "_SVSulJQc14v"
   },
   "source": [
    "### Visualization 1\n",
    "\n",
    "`TODO: events by date, is there some ups and downs by special event...`"
   ]
  },
  {
   "cell_type": "code",
   "execution_count": 23,
   "metadata": {
    "colab": {},
    "colab_type": "code",
    "id": "8GvtoWSDc14v"
   },
   "outputs": [],
   "source": [
    "c_created = pd.read_csv(\"events\\CalculationCreated.csv\")\n",
    "c_created[\"Date\"] = pd.to_datetime(c_created[\"Date\"])\n",
    "\n",
    "m_added = pd.read_csv(\"events\\MetricAdded.csv\")\n",
    "m_added[\"Date\"] = pd.to_datetime(m_added[\"Date\"])\n",
    "ds_added = pd.read_csv(r\"events\\NewDatasourcesAdded.csv\")\n",
    "ds_added[\"Date\"] = pd.to_datetime(ds_added[\"Date\"])\n",
    "q_created = pd.read_csv(r\"events\\QueryCreated.csv\")\n",
    "q_created[\"Date\"] = pd.to_datetime(q_created[\"Date\"])\n",
    "sessions = pd.read_csv(\"events\\Sessions.csv\")\n",
    "sessions[\"Date\"] = pd.to_datetime(sessions[\"Date\"])\n",
    "s_urls = pd.read_csv(\"events\\ShareUrl.csv\")\n",
    "s_urls[\"Date\"] = pd.to_datetime(s_urls[\"Date\"])\n",
    "s_shared = pd.read_csv(\"events\\SnapshotShared.csv\")\n",
    "s_shared[\"Date\"] = pd.to_datetime(s_shared[\"Date\"])\n",
    "u_added = pd.read_csv(r\"events\\UsersAdded.csv\")\n",
    "u_added[\"Date\"] = pd.to_datetime(u_added[\"Date\"])\n"
   ]
  },
  {
   "cell_type": "code",
   "execution_count": 24,
   "metadata": {},
   "outputs": [
    {
     "data": {
      "image/png": "[encoded data removed]",
      "text/plain": [
       "<Figure size 432x288 with 1 Axes>"
      ]
     },
     "metadata": {
      "needs_background": "light"
     },
     "output_type": "display_data"
    }
   ],
   "source": [
    "p1= c_created[[\"Date\", \"Event_count\"]].groupby(\"Date\").sum()\n",
    "\n",
    "p2= m_added[[\"Date\", \"Event_count\"]].groupby(\"Date\").sum()\n",
    "p3= ds_added[[\"Date\", \"Event_count\"]].groupby(\"Date\").sum()\n",
    "p4 = q_created[[\"Date\", \"Event_count\"]].groupby(\"Date\").sum()\n",
    "p5 = sessions[[\"Date\", \"Event_count\"]].groupby(\"Date\").sum()\n",
    "p6 = s_urls[[\"Date\", \"Event_count\"]].groupby(\"Date\").sum()\n",
    "p7 = s_shared[[\"Date\", \"Event_count\"]].groupby(\"Date\").sum()\n",
    "p8 = u_added[[\"Date\", \"Event_count\"]].groupby(\"Date\").sum()\n",
    " \n",
    "plt.plot(p1, \"-\", label=\"Calculation created\")\n",
    "plt.plot(p2, \"-\", label=\"Metric added\")\n",
    "plt.plot(p3, \"-\", label=\"Data source added\")\n",
    "plt.plot(p4, \"-\", label=\"Queries created\")\n",
    "#plt.plot(p5, \"-\", label=\"Sessions\")\n",
    "plt.plot(p6, \"-\", label=\"shared urls\")\n",
    "plt.plot(p7, \"-\", label=\"Snapshots shared\")\n",
    "plt.plot(p8, \"-\", label=\"Users added\")\n",
    "\n",
    "plt.xticks(rotation=90)\n",
    "plt.legend()\n",
    "plt.show()\n",
    "\n",
    "L = list(p1.index)\n",
    "D = pd.DataFrame()\n",
    "D[\"D\"] = L\n",
    "X = list(D['D'].apply(pd.Timestamp.toordinal))\n",
    "\n",
    "\n"
   ]
  },
  {
   "cell_type": "code",
   "execution_count": 31,
   "metadata": {},
   "outputs": [
    {
     "data": {
      "text/plain": [
       "Date\n",
       "2019-11-25      68\n",
       "2019-12-02     625\n",
       "2019-12-09     667\n",
       "2019-12-16     487\n",
       "2019-12-23     179\n",
       "              ... \n",
       "2021-10-18    1015\n",
       "2021-10-25    1426\n",
       "2021-11-01    1285\n",
       "2021-11-08    1288\n",
       "2021-11-15     193\n",
       "Name: Event_count, Length: 104, dtype: int64"
      ]
     },
     "execution_count": 31,
     "metadata": {},
     "output_type": "execute_result"
    }
   ],
   "source": [
    "p1[\"Event_count\"]"
   ]
  },
  {
   "cell_type": "code",
   "execution_count": null,
   "metadata": {},
   "outputs": [],
   "source": [
    " "
   ]
  },
  {
   "cell_type": "code",
   "execution_count": 26,
   "metadata": {},
   "outputs": [
    {
     "data": {
      "image/png": "[encoded data removed]",
      "text/plain": [
       "<Figure size 432x288 with 1 Axes>"
      ]
     },
     "metadata": {
      "needs_background": "light"
     },
     "output_type": "display_data"
    }
   ],
   "source": [
    "i=2\n",
    "ply1 =  np.poly1d(np.polyfit(X[1:-1], list(p1[\"Event_count\"])[1:-1], i))\n",
    "plt.plot(L, ply1(X), label=\"Calculation created regression \")\n",
    "ply2 = np.poly1d(np.polyfit(X[1:-1], list(p2[\"Event_count\"])[1:-1], i))\n",
    "plt.plot(L, ply2(X), label=\"Metric added regression \")\n",
    "ply3 = np.poly1d(np.polyfit(X[1:-1], list(p3[\"Event_count\"])[1:-1], i))\n",
    "plt.plot(L, ply3(X), label=\"Data source added regression \")\n",
    "ply4 = np.poly1d(np.polyfit(X[1:-1], list(p4[\"Event_count\"])[1:-1], i))\n",
    "plt.plot(L, ply4(X), label=\"Queries created regression \")\n",
    "#ply5 = np.poly1d(np.polyfit(X[1:-1], list(p5[\"Event_count\"])[1:-1], i))\n",
    "#plt.plot(L, ply5(X), label=\"Sessions regression \")\n",
    "#fit regression of correct length\n",
    "ply6 = np.poly1d(np.polyfit(X[1:-1], list(p6[\"Event_count\"])[1:-1], i))\n",
    "plt.plot(L, ply6(X), label=\"Shared urls regression \")\n",
    "ply7 = np.poly1d(np.polyfit(X[1:-1], list(p7[\"Event_count\"])[1:-1], i))\n",
    "plt.plot(L, ply7(X), label=\" Snapshots shared\")\n",
    "ply8 = np.poly1d(np.polyfit(X[1:-1], list(p8[\"Event_count\"])[1:-1], i))\n",
    "plt.plot(L, ply8(X), label=\"Users added regression \")\n",
    "\n",
    "plt.xticks(rotation=90)\n",
    "plt.legend()\n",
    "plt.show()\n",
    "\n"
   ]
  },
  {
   "cell_type": "markdown",
   "metadata": {
    "colab_type": "text",
    "id": "po4uso66c14x"
   },
   "source": [
    "### Visualization 2\n",
    "\n",
    "`TODO: add code to generate visualization`"
   ]
  },
  {
   "cell_type": "code",
   "execution_count": 28,
   "metadata": {
    "colab": {},
    "colab_type": "code",
    "id": "9xKMH6rjc14y"
   },
   "outputs": [],
   "source": [
    "# Visualization 2 code\n",
    "L = list(p1.index)\n",
    "D = pd.DataFrame()\n",
    "D[\"D\"] = L\n",
    "X = list(D['D'].apply(pd.Timestamp.toordinal))\n"
   ]
  },
  {
   "cell_type": "markdown",
   "metadata": {
    "colab_type": "text",
    "id": "Ibr8rBN_c14z"
   },
   "source": [
    "### Visualization ...\n",
    "\n",
    "`TODO: add code to generate visualization`"
   ]
  },
  {
   "cell_type": "code",
   "execution_count": null,
   "metadata": {
    "colab": {},
    "colab_type": "code",
    "id": "TIa6vaMOc140"
   },
   "outputs": [],
   "source": [
    "# Visualization ... code"
   ]
  }
 ],
 "metadata": {
  "colab": {
   "name": "Web_Scraping.ipynb",
   "provenance": []
  },
  "kernelspec": {
   "display_name": "project_2",
   "language": "python",
   "name": "project_2"
  },
  "language_info": {
   "codemirror_mode": {
    "name": "ipython",
    "version": 3
   },
   "file_extension": ".py",
   "mimetype": "text/x-python",
   "name": "python",
   "nbconvert_exporter": "python",
   "pygments_lexer": "ipython3",
   "version": "3.7.11"
  }
 },
 "nbformat": 4,
 "nbformat_minor": 1
}
